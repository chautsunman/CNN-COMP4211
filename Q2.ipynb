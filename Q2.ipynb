{
 "cells": [
  {
   "cell_type": "markdown",
   "metadata": {},
   "source": [
    "# Assignment 2 Q2"
   ]
  },
  {
   "cell_type": "code",
   "execution_count": null,
   "metadata": {},
   "outputs": [],
   "source": [
    "# Imports\n",
    "import numpy as np\n",
    "import os\n",
    "from utils.utilities import *\n",
    "import time\n",
    "from datetime import timedelta"
   ]
  },
  {
   "cell_type": "markdown",
   "metadata": {},
   "source": [
    "## Prepare data"
   ]
  },
  {
   "cell_type": "code",
   "execution_count": null,
   "metadata": {
    "scrolled": true
   },
   "outputs": [],
   "source": [
    "X_train, y_train, list_ch_train = read_data(data_path=\"./data/Q2_dataset\", split=\"train\")\n",
    "X_test, y_test, list_ch_test = read_data(data_path=\"./data/Q2_dataset\", split=\"test\")"
   ]
  },
  {
   "cell_type": "code",
   "execution_count": null,
   "metadata": {},
   "outputs": [],
   "source": [
    "# Normalize\n",
    "X_train, X_test = standardize(X_train, X_test)"
   ]
  },
  {
   "cell_type": "code",
   "execution_count": null,
   "metadata": {},
   "outputs": [],
   "source": [
    "# One hot encoding the label\n",
    "y_train = one_hot(y_train)\n",
    "y_test = one_hot(y_test)"
   ]
  },
  {
   "cell_type": "markdown",
   "metadata": {},
   "source": [
    "# Todo: Building 1D-CNN"
   ]
  },
  {
   "cell_type": "code",
   "execution_count": null,
   "metadata": {},
   "outputs": [],
   "source": [
    "import tensorflow as tf"
   ]
  },
  {
   "cell_type": "code",
   "execution_count": null,
   "metadata": {},
   "outputs": [],
   "source": [
    "series_length = 128\n",
    "series_shape = (series_length)\n",
    "num_channels = 9\n",
    "num_classes = 6"
   ]
  },
  {
   "cell_type": "code",
   "execution_count": null,
   "metadata": {},
   "outputs": [],
   "source": [
    "x = tf.placeholder(tf.float32, shape=[None, series_length, num_channels], name='x')\n",
    "y_true = tf.placeholder(tf.float32, shape=[None, num_classes], name='y_true')\n",
    "y_true_cls = tf.argmax(y_true, axis=1)"
   ]
  },
  {
   "cell_type": "code",
   "execution_count": null,
   "metadata": {},
   "outputs": [],
   "source": [
    "def cnn(x):\n",
    "    x_series = tf.reshape(x, [-1, series_length, num_channels])\n",
    "\n",
    "    conv1 = tf.layers.conv1d(\n",
    "        inputs=x_series,\n",
    "        filters=16,\n",
    "        kernel_size=[8],\n",
    "        padding=\"same\",\n",
    "        activation=tf.nn.relu\n",
    "    )\n",
    "\n",
    "    pool1 = tf.layers.max_pooling1d(\n",
    "        inputs=conv1, \n",
    "        pool_size=[8], \n",
    "        strides=8\n",
    "    )\n",
    "\n",
    "    conv2 = tf.layers.conv1d(\n",
    "        inputs=pool1,\n",
    "        filters=32,\n",
    "        kernel_size=[4],\n",
    "        padding=\"same\",\n",
    "        activation=tf.nn.relu\n",
    "    )\n",
    "    \n",
    "    pool2 = tf.layers.max_pooling1d(\n",
    "        inputs=conv2, \n",
    "        pool_size=[8], \n",
    "        strides=8\n",
    "    )\n",
    "    \n",
    "    layer_shape = pool2.get_shape()\n",
    "    num_features = layer_shape[1:3].num_elements()\n",
    "    layer_flat = tf.reshape(pool2, [-1, num_features])\n",
    "    \n",
    "    fc1 = tf.layers.dense(\n",
    "        inputs=layer_flat, \n",
    "        units=256, \n",
    "        activation=tf.nn.relu\n",
    "    )\n",
    "\n",
    "    logits = tf.layers.dense(\n",
    "        inputs=fc1, \n",
    "        units=num_classes\n",
    "    )\n",
    "\n",
    "    return logits"
   ]
  },
  {
   "cell_type": "code",
   "execution_count": null,
   "metadata": {},
   "outputs": [],
   "source": [
    "y_pred = cnn(x)\n",
    "\n",
    "loss = tf.losses.mean_squared_error(\n",
    "    labels=y_true,\n",
    "    predictions=y_pred\n",
    ")\n",
    "\n",
    "optimizer = tf.train.AdamOptimizer(learning_rate=1e-3).minimize(loss)\n",
    "\n",
    "y_pred_cls = tf.argmax(y_pred, axis=1)\n",
    "correct_prediction = tf.equal(y_pred_cls, y_true_cls)\n",
    "accuracy = tf.reduce_mean(tf.cast(correct_prediction, tf.float32))"
   ]
  },
  {
   "cell_type": "markdown",
   "metadata": {},
   "source": [
    "# Todo: Run the network"
   ]
  },
  {
   "cell_type": "code",
   "execution_count": null,
   "metadata": {},
   "outputs": [],
   "source": [
    "sess = tf.Session()\n",
    "sess.run(tf.global_variables_initializer())"
   ]
  },
  {
   "cell_type": "code",
   "execution_count": null,
   "metadata": {},
   "outputs": [],
   "source": [
    "total_iterations = 0\n",
    "batch_size = 50\n",
    "\n",
    "def optimize(num_epochs):\n",
    "    for i in range(num_epochs):\n",
    "        train_accuracy = []\n",
    "        \n",
    "        for x_batch, y_true_batch in get_batches(X_train, y_train, batch_size):\n",
    "            feed_dict_train = {\n",
    "                x: x_batch,\n",
    "                y_true: y_true_batch\n",
    "            }\n",
    "            batch_accuracy, _ = sess.run([accuracy, optimizer], feed_dict=feed_dict_train)\n",
    "            train_accuracy.append(batch_accuracy)\n",
    "        \n",
    "        print(\"Epoch {}, Train accuracy: {:.1%}\".format(i, np.mean(train_accuracy)))\n",
    "        if i % 5 == 0:\n",
    "            print_test_accuracy()\n",
    "\n",
    "def print_test_accuracy():\n",
    "    test_accuracy = []\n",
    "    \n",
    "    for x_batch, y_true_batch in get_batches(X_test, y_test, batch_size):\n",
    "        feed_dict_test = {\n",
    "            x: x_batch,\n",
    "            y_true: y_true_batch\n",
    "        }\n",
    "        batch_accuracy = sess.run(accuracy, feed_dict=feed_dict_test)\n",
    "        test_accuracy.append(batch_accuracy)\n",
    "    \n",
    "    print(\"Test accuracy: {:.1%}\".format(np.mean(test_accuracy)))"
   ]
  },
  {
   "cell_type": "code",
   "execution_count": null,
   "metadata": {},
   "outputs": [],
   "source": [
    "print_test_accuracy()"
   ]
  },
  {
   "cell_type": "code",
   "execution_count": null,
   "metadata": {},
   "outputs": [],
   "source": [
    "optimize(num_epochs=100)\n",
    "print('='*30)\n",
    "print_test_accuracy()"
   ]
  },
  {
   "cell_type": "code",
   "execution_count": null,
   "metadata": {},
   "outputs": [],
   "source": []
  },
  {
   "cell_type": "code",
   "execution_count": null,
   "metadata": {},
   "outputs": [],
   "source": []
  }
 ],
 "metadata": {
  "kernelspec": {
   "display_name": "Python 3.6",
   "language": "python",
   "name": "python36"
  },
  "language_info": {
   "codemirror_mode": {
    "name": "ipython",
    "version": 3
   },
   "file_extension": ".py",
   "mimetype": "text/x-python",
   "name": "python",
   "nbconvert_exporter": "python",
   "pygments_lexer": "ipython3",
   "version": "3.6.3"
  },
  "widgets": {
   "state": {},
   "version": "1.1.2"
  }
 },
 "nbformat": 4,
 "nbformat_minor": 2
}
